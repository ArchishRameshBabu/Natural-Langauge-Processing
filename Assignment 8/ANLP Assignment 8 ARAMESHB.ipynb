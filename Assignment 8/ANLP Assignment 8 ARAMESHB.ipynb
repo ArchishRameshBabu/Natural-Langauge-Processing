{
 "cells": [
  {
   "cell_type": "markdown",
   "metadata": {},
   "source": [
    "## ANLP Assignment 8"
   ]
  },
  {
   "cell_type": "code",
   "execution_count": 12,
   "metadata": {},
   "outputs": [],
   "source": [
    "import numpy\n",
    "import spacy\n",
    "from math import*\n",
    "import pandas as pd\n",
    "nlp = spacy.load('en')"
   ]
  },
  {
   "cell_type": "markdown",
   "metadata": {},
   "source": [
    "## Task 1 "
   ]
  },
  {
   "cell_type": "code",
   "execution_count": 13,
   "metadata": {},
   "outputs": [
    {
     "name": "stdout",
     "output_type": "stream",
     "text": [
      "The similarity score for the sentance ' This is a sentence. ' aganist the seed sentance is is  0.5543370457325273\n",
      "The similarity score for the sentance ' This is another sentence. ' aganist the seed sentance is is  0.5430651457911527\n",
      "The similarity score for the sentance ' John likes milk. ' aganist the seed sentance is is  0.5666850379747415\n",
      "The similarity score for the sentance ' Peter eats candy. ' aganist the seed sentance is is  0.5452489053230556\n",
      "The similarity score for the sentance ' My dog likes bones.\n",
      " ' aganist the seed sentance is is  0.7247384874616155\n"
     ]
    }
   ],
   "source": [
    "Ex_txt_raw = open(\"ex1.txt\")\n",
    "Ex_txt_processed = Ex_txt_raw.read()\n",
    "Ex_txt_processed2=nlp(Ex_txt_processed)\n",
    "\n",
    "comp = nlp(u\"My poodle likes food in general.\")\n",
    "\n",
    "for sent in Ex_txt_processed2.sents:\n",
    "    x=sent.text\n",
    "    y=nlp(x)\n",
    "    print(\"The similarity score for the sentance '\",x, \"' aganist the seed sentance is is \", y.similarity(comp))"
   ]
  },
  {
   "cell_type": "markdown",
   "metadata": {},
   "source": [
    "Based on the results above we can conclude that \"My dog likes bones\" is the sentance that is most similar to \"My poodle likes food in general\""
   ]
  },
  {
   "cell_type": "markdown",
   "metadata": {},
   "source": [
    "## Task 2 "
   ]
  },
  {
   "cell_type": "markdown",
   "metadata": {},
   "source": [
    "### a) Most similar words"
   ]
  },
  {
   "cell_type": "code",
   "execution_count": 14,
   "metadata": {},
   "outputs": [
    {
     "name": "stdout",
     "output_type": "stream",
     "text": [
      "The similarity between John and some is -0.014235469\n",
      "The similarity between John and man is 0.26821983\n",
      "The similarity between John and likes is -0.08188061\n",
      "The similarity between John and fruit is 0.2018577\n",
      "The similarity between loves and some is 0.0007409384\n",
      "The similarity between loves and man is 0.1280556\n",
      "The similarity between loves and likes is 0.46491706\n",
      "The similarity between loves and fruit is 0.10413371\n",
      "The similarity between apples and some is -0.03522985\n",
      "The similarity between apples and man is 0.16096427\n",
      "The similarity between apples and likes is 0.10055058\n",
      "The similarity between apples and fruit is 0.3141492\n"
     ]
    }
   ],
   "source": [
    "tokens1 = nlp(u'John loves apples')\n",
    "tokens2 = nlp(u'some man likes fruit')\n",
    "\n",
    "Euclidian_dist=[]\n",
    "for token1 in tokens1:\n",
    "    for token2 in tokens2:\n",
    "        t1 = token1.vector\n",
    "        ##print(t1)\n",
    "        t2 = token2.vector\n",
    "        ##print(t2)\n",
    "        simi=token1.similarity(token2)\n",
    "        val=sqrt(sum(pow(x-y,2) for x, y in zip(t1, t2)))\n",
    "        Euclidian_dist.append([simi,val])\n",
    "        print(\"The similarity between\",token1.text,\"and\", token2.text, \"is\",token1.similarity(token2))\n",
    "        \n",
    "        "
   ]
  },
  {
   "cell_type": "markdown",
   "metadata": {},
   "source": [
    "Based on the above results we can say that loves and likes are the most similar words"
   ]
  },
  {
   "cell_type": "markdown",
   "metadata": {},
   "source": [
    "### b)Python code that computes the distance between them."
   ]
  },
  {
   "cell_type": "code",
   "execution_count": 15,
   "metadata": {},
   "outputs": [
    {
     "name": "stdout",
     "output_type": "stream",
     "text": [
      "28.13667312321284\n"
     ]
    }
   ],
   "source": [
    "Euclidian_dist=pd.DataFrame(Euclidian_dist)\n",
    "Euclidian_dist.columns=['similarity','distance']\n",
    "print(Euclidian_dist.loc[Euclidian_dist['similarity'].idxmax(),'distance'])"
   ]
  },
  {
   "cell_type": "markdown",
   "metadata": {},
   "source": [
    "The Euclidian distance between the most similar words is 28.13667312321284"
   ]
  },
  {
   "cell_type": "markdown",
   "metadata": {},
   "source": [
    "### c)Sum up and average over the distances to print out the Word Mover's Distance between the two lines"
   ]
  },
  {
   "cell_type": "code",
   "execution_count": 16,
   "metadata": {},
   "outputs": [
    {
     "data": {
      "text/plain": [
       "34.244884795762836"
      ]
     },
     "execution_count": 16,
     "metadata": {},
     "output_type": "execute_result"
    }
   ],
   "source": [
    "Euclidian_dist['distance'].mean()"
   ]
  },
  {
   "cell_type": "markdown",
   "metadata": {},
   "source": [
    "### Task 3"
   ]
  },
  {
   "cell_type": "markdown",
   "metadata": {},
   "source": [
    "### Steps\n",
    "1)Read the necessary test \n",
    "2)Split by sentance using spacy \n",
    "3)Use spacy to identify the Subject, verb and object from the sentence \n",
    "4)Write the results in a text file"
   ]
  },
  {
   "cell_type": "code",
   "execution_count": 17,
   "metadata": {},
   "outputs": [
    {
     "name": "stdout",
     "output_type": "stream",
     "text": [
      "For the sentance :Science and mathematics courses are more beneficial to students than literature and history classes for three reasons.\n",
      "The Subject is [courses]\n",
      "The Verb is [are]\n",
      "The Object is []\n",
      "\n",
      "For the sentance :First, the knowledge of science and math is essential to learning other important disciplines.\n",
      "The Subject is [knowledge]\n",
      "The Verb is [is, learning]\n",
      "The Object is [disciplines]\n",
      "\n",
      "For the sentance :Second, it is more important in everyday life than literature and history.\n",
      "The Subject is [it]\n",
      "The Verb is [is]\n",
      "The Object is []\n",
      "\n",
      "For the sentance :And finally, science and math courses develop logic skills the way the humanities courses cant.\n",
      "\n",
      "\n",
      "The Subject is [courses, courses]\n",
      "The Verb is [develop, ca]\n",
      "The Object is [skills]\n",
      "\n",
      "For the sentance :First and foremost importantly, science and mathematics are essential for learning economics, finance, or mechanics, which are disciplines that are invaluable in todays marketplace.\n",
      "The Subject is [science, which, that]\n",
      "The Verb is [are, learning, are, are]\n",
      "The Object is [economics]\n",
      "\n",
      "For the sentance :Anyone who lacks such knowledge will also have difficulty grasping computers, internet, stocks, insurance, etc.\n",
      "The Subject is [Anyone, who]\n",
      "The Verb is [lacks, have, grasping]\n",
      "The Object is [knowledge, difficulty, computers]\n",
      "\n",
      "For the sentance :But the knowledge of literature and history barely has any effect on any skills that are vital to todays economic atmosphere.\n",
      "\n",
      "\n",
      "The Subject is [knowledge, that]\n",
      "The Verb is [has, are]\n",
      "The Object is [effect]\n",
      "\n",
      "For the sentance :Science and mathematics are indispensable in daily and professional lives.\n",
      "The Subject is [Science]\n",
      "The Verb is [are]\n",
      "The Object is []\n",
      "\n",
      "For the sentance :They show people how to avoid electric shock when doing electrical repairs.\n",
      "The Subject is [They]\n",
      "The Verb is [show, avoid, doing]\n",
      "The Object is [people, shock, repairs]\n",
      "\n",
      "For the sentance :They also help people optimize their incomes and expenses effectively.\n",
      "The Subject is [They, people]\n",
      "The Verb is [help, optimize]\n",
      "The Object is [incomes]\n",
      "\n",
      "For the sentance :These subjects also play an important role in the workplace.\n",
      "The Subject is [subjects]\n",
      "The Verb is [play]\n",
      "The Object is [role]\n",
      "\n",
      "For the sentance :Operating machinery and being responsible for market or finance analysis call for the knowledge of math.\n",
      "The Subject is []\n",
      "The Verb is [Operating, being, finance]\n",
      "The Object is [call]\n",
      "\n",
      "For the sentance :But the humanities are hardly helpful in the workplace.\n",
      "The Subject is [humanities]\n",
      "The Verb is [are]\n",
      "The Object is []\n",
      "\n",
      "For the sentance :Literature and history can only be valuable to the people who teach them, providing them with income.\n",
      "The Subject is [Literature, who]\n",
      "The Verb is [be, teach, providing]\n",
      "The Object is [them, them]\n",
      "\n",
      "For the sentance :But these teachers represent only a small percentage of population.\n",
      "\n",
      "\n",
      "The Subject is [teachers]\n",
      "The Verb is [represent]\n",
      "The Object is [percentage]\n",
      "\n",
      "For the sentance :Finally, science and mathematics are great logic training.\n",
      "The Subject is [science]\n",
      "The Verb is [are]\n",
      "The Object is []\n",
      "\n",
      "For the sentance :They train students how to analyse numerous variants, and show how to cope with conflicting factors.\n",
      "The Subject is [They]\n",
      "The Verb is [train, analyse, show, cope]\n",
      "The Object is [students, variants]\n",
      "\n",
      "For the sentance :They cultivate mental perception and stimulate the development of intelligence.\n",
      "The Subject is [They]\n",
      "The Verb is [cultivate, stimulate]\n",
      "The Object is [perception, development]\n",
      "\n",
      "For the sentance :History and literature, on the other hand, provide only limited value by providing examples from the past and the writers imagination.\n",
      "The Subject is [History]\n",
      "The Verb is [provide, providing]\n",
      "The Object is [value, examples]\n",
      "\n",
      "For the sentance :The lessons of history are not likely to help solve difficult logical problems that the modern person may encounter almost every day.\n",
      "The Subject is [lessons, person]\n",
      "The Verb is [are, help, solve, encounter]\n",
      "The Object is [problems]\n",
      "\n"
     ]
    }
   ],
   "source": [
    "Ex_txt_raw = open(\"data.txt\")\n",
    "Ex_txt_processed = Ex_txt_raw.read()\n",
    "Ex_txt_processed2=nlp(Ex_txt_processed)\n",
    "result=''\n",
    "for sent in Ex_txt_processed2.sents:\n",
    "    x=sent.text\n",
    "    token = nlp(x)\n",
    "    subject_res=[]\n",
    "    object_res=[]\n",
    "    verb_res=[]\n",
    "    for k in token:\n",
    "        if(k.dep_ == \"nsubj\"):\n",
    "            subject_res.append(k)\n",
    "        if(k.dep_ == \"dobj\"):\n",
    "            object_res.append(k)\n",
    "        if(k.pos_ == \"VERB\" and k.dep_ != \"aux\"):\n",
    "            verb_res.append(k)\n",
    "    y1=\"For the sentance :\"  + str(x) +'\\n'\n",
    "    y2=\"The Subject is \"+str(subject_res) +'\\n'\n",
    "    y3=\"The Verb is \"+str(verb_res) +'\\n'\n",
    "    y4=\"The Object is \"+str(object_res) +'\\n'\n",
    "    res=y1+y2+y3+y4\n",
    "    print(res)\n",
    "    result=result+res\n",
    "tex_res = open(\"Final_Output.txt\", \"w\")\n",
    "tex_res.write(str(result))\n",
    "tex_res.close()"
   ]
  },
  {
   "cell_type": "markdown",
   "metadata": {},
   "source": [
    "## Reference"
   ]
  },
  {
   "cell_type": "markdown",
   "metadata": {},
   "source": [
    "https://spacy.io/usage/vectors-similarity"
   ]
  }
 ],
 "metadata": {
  "kernelspec": {
   "display_name": "Python 3",
   "language": "python",
   "name": "python3"
  },
  "language_info": {
   "codemirror_mode": {
    "name": "ipython",
    "version": 3
   },
   "file_extension": ".py",
   "mimetype": "text/x-python",
   "name": "python",
   "nbconvert_exporter": "python",
   "pygments_lexer": "ipython3",
   "version": "3.6.5"
  }
 },
 "nbformat": 4,
 "nbformat_minor": 2
}
